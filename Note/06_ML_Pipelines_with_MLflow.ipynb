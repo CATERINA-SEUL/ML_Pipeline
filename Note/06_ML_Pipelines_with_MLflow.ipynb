{
 "cells": [
  {
   "cell_type": "markdown",
   "metadata": {},
   "source": [
    "## Overview of ML development challenges"
   ]
  },
  {
   "cell_type": "markdown",
   "metadata": {},
   "source": [
    "![35](https://user-images.githubusercontent.com/46242120/110827212-32feb700-82d9-11eb-8ad9-a8c376bdfbd3.png)\n",
    "![36](https://user-images.githubusercontent.com/46242120/110827234-38f49800-82d9-11eb-8fac-e6bc26f70c1f.png)\n"
   ]
  }
 ],
 "metadata": {
  "kernelspec": {
   "display_name": "Python 3",
   "language": "python",
   "name": "python3"
  },
  "language_info": {
   "codemirror_mode": {
    "name": "ipython",
    "version": 3
   },
   "file_extension": ".py",
   "mimetype": "text/x-python",
   "name": "python",
   "nbconvert_exporter": "python",
   "pygments_lexer": "ipython3",
   "version": "3.7.2"
  }
 },
 "nbformat": 4,
 "nbformat_minor": 4
}
