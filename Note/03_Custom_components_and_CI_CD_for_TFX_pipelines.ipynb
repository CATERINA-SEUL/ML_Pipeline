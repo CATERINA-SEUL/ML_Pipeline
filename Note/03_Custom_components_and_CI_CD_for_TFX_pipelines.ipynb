{
 "cells": [
  {
   "cell_type": "markdown",
   "metadata": {},
   "source": [
    "## TFX custom components - Python functions\n"
   ]
  },
  {
   "cell_type": "markdown",
   "metadata": {},
   "source": [
    "### Create new custom components\n",
    "\n",
    " - Python funtions\n",
    " - Containers\n",
    " - Extending existing components classes"
   ]
  },
  {
   "cell_type": "markdown",
   "metadata": {},
   "source": [
    "----\n",
    "![01](https://user-images.githubusercontent.com/46242120/110600932-cea00280-81c7-11eb-8d7d-ecdce36b862c.png)\n",
    " \n",
    "To create a custom component, first write a function that implements your custom logic. And decorate it with the ad component decorator from the TFX, DSL component experimental module. This decorator saves you the time of writing your own custom component spec executed in component interface class. Second, annotate the input artifact types. For my trainer component shown, it takes examples in a model input artifact. For each artifact input, apply the input artifact type hint annotation. Replace the artifact type with the artifacts type, which is a subclass of TFX types dot artifact. These inputs can be optional arguments as well. Third, annotate the input parameter types. For my trainer component, it takes two input parameters with simple data type values drop out, which is any float value, and num iterations, which is an integer with a default set at 10. Forth annotate the output artifact types, my trainer component outputs, a simple data type output. A dictionary consisting of two values a loss metric with a float data type, an accuracy metric also have a float data type. Note how the function body uses the artifact underscore instance dot URI to read or write the output artifact to its system managed location. Finally, you initialize an instance of your my trainer component to include in your pipeline definition code to pass to your orchestrator dag runner. The output model artifact is then used by the pusher component in the pipeline graph.\n",
    "\n",
    "![02](https://user-images.githubusercontent.com/46242120/110600952-d2338980-81c7-11eb-9dcd-234fa52a5f2a.png)"
   ]
  },
  {
   "cell_type": "markdown",
   "metadata": {},
   "source": [
    "## TFX custom components - containers & subclassed\n"
   ]
  },
  {
   "cell_type": "markdown",
   "metadata": {},
   "source": [
    "![03](https://user-images.githubusercontent.com/46242120/110601232-1161da80-81c8-11eb-9e80-ca70053cc77d.png)\n",
    "![04](https://user-images.githubusercontent.com/46242120/110601285-20e12380-81c8-11eb-990c-3f854f1179ce.png)\n",
    "![05](https://user-images.githubusercontent.com/46242120/110601467-4f5efe80-81c8-11eb-94b6-76182017c54b.png)\n",
    "\n",
    "The code highlighted in green is the actual executer code for the component using the GS util command line utility from the Google Cloud SDK image you can execute the following command line steps in your container. Step one, it uses GS util to copy and external artifact text data into the container from the taxi ride directory. Step two is it filters that text using Grep command line language based on the provided regular expression pattern.\n",
    "Step three is it uses GS units to copy data out of the container into the text filtered URI directory.\n",
    "The code highlighted again in green uses placeholder objects that are replaced at compilation time with the input output or parameter values.\n",
    "\n",
    "![06](https://user-images.githubusercontent.com/46242120/110601652-86cdab00-81c8-11eb-83b9-fde7795d4cc5.png)\n",
    "\n",
    "![07](https://user-images.githubusercontent.com/46242120/110601854-ba103a00-81c8-11eb-9120-e340b908a61e.png)\n",
    "![08](https://user-images.githubusercontent.com/46242120/110601977-dc09bc80-81c8-11eb-8794-1d345e28455b.png)\n",
    "![09](https://user-images.githubusercontent.com/46242120/110602185-11160f00-81c9-11eb-9853-12e29413373b.png)\n",
    "![10](https://user-images.githubusercontent.com/46242120/110602263-29862980-81c9-11eb-89b4-9546cac2be03.png)\n"
   ]
  },
  {
   "cell_type": "markdown",
   "metadata": {},
   "source": [
    "## CI/CD for TFX pipeline workflows\n"
   ]
  },
  {
   "cell_type": "markdown",
   "metadata": {},
   "source": [
    "![11](https://user-images.githubusercontent.com/46242120/110602547-75d16980-81c9-11eb-89b1-ede27233ec1b.png)\n",
    "![12](https://user-images.githubusercontent.com/46242120/110602775-a7e2cb80-81c9-11eb-9038-cc595b7b97c5.png)\n"
   ]
  },
  {
   "cell_type": "markdown",
   "metadata": {},
   "source": [
    "![13](https://user-images.githubusercontent.com/46242120/110603108-014afa80-81ca-11eb-9233-fe6bdcf2be15.png)\n",
    "![14](https://user-images.githubusercontent.com/46242120/110603139-07d97200-81ca-11eb-9d05-ce418329ee87.png)![15](https://user-images.githubusercontent.com/46242120/110603237-25a6d700-81ca-11eb-9f0b-97a2e774bdf5.png)\n",
    "![16](https://user-images.githubusercontent.com/46242120/110603366-47a05980-81ca-11eb-9183-63d4a1383c97.png)\n",
    "![17](https://user-images.githubusercontent.com/46242120/110603522-71f21700-81ca-11eb-841f-81cdc2903d2f.png)\n",
    "![18](https://user-images.githubusercontent.com/46242120/110603727-a8c82d00-81ca-11eb-902c-58e4e8f2153f.png)\n"
   ]
  }
 ],
 "metadata": {
  "kernelspec": {
   "display_name": "Python 3",
   "language": "python",
   "name": "python3"
  },
  "language_info": {
   "codemirror_mode": {
    "name": "ipython",
    "version": 3
   },
   "file_extension": ".py",
   "mimetype": "text/x-python",
   "name": "python",
   "nbconvert_exporter": "python",
   "pygments_lexer": "ipython3",
   "version": "3.7.2"
  }
 },
 "nbformat": 4,
 "nbformat_minor": 4
}
