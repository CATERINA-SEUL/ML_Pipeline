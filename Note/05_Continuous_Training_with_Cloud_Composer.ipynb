{
 "cells": [
  {
   "cell_type": "markdown",
   "metadata": {},
   "source": [
    "## What is Cloud Composer?"
   ]
  },
  {
   "cell_type": "markdown",
   "metadata": {},
   "source": [
    "![1](https://user-images.githubusercontent.com/46242120/110804590-ab5a7d80-82c3-11eb-84e6-b0f01399cf66.png)\n",
    "![2](https://user-images.githubusercontent.com/46242120/110804604-b01f3180-82c3-11eb-9988-cab6d5db6863.png)\n",
    "![3](https://user-images.githubusercontent.com/46242120/110804606-b0b7c800-82c3-11eb-8eac-93f6a25360f6.png)\n",
    "![4](https://user-images.githubusercontent.com/46242120/110804609-b1e8f500-82c3-11eb-8e0d-f259f5dde253.png)\n",
    "![5](https://user-images.githubusercontent.com/46242120/110804612-b1e8f500-82c3-11eb-84ce-21adcc68859c.png)\n",
    "![6](https://user-images.githubusercontent.com/46242120/110804618-b2818b80-82c3-11eb-8323-18f24b3a138b.png)\n",
    "![7](https://user-images.githubusercontent.com/46242120/110804624-b31a2200-82c3-11eb-8a75-607094826cd8.png)"
   ]
  },
  {
   "cell_type": "markdown",
   "metadata": {},
   "source": [
    "## Core Concepts of Apache Airflow"
   ]
  },
  {
   "cell_type": "markdown",
   "metadata": {},
   "source": [
    "![8](https://user-images.githubusercontent.com/46242120/110808731-a0a1e780-82c7-11eb-8998-13967bd840a0.png)\n",
    "![9](https://user-images.githubusercontent.com/46242120/110808765-a5669b80-82c7-11eb-9d4f-1d79512bb144.png)\n",
    "![10](https://user-images.githubusercontent.com/46242120/110808767-a5ff3200-82c7-11eb-81ae-3bc62f7fa56c.png)\n",
    "![11](https://user-images.githubusercontent.com/46242120/110808772-a697c880-82c7-11eb-9f3c-40b6d4e2f1c0.png)\n",
    "![12](https://user-images.githubusercontent.com/46242120/110808775-a7305f00-82c7-11eb-8834-ae38071f18ae.png)\n",
    "![13](https://user-images.githubusercontent.com/46242120/110808778-a7c8f580-82c7-11eb-92d6-1415bf35ad61.png)\n",
    "![14](https://user-images.githubusercontent.com/46242120/110808783-a8618c00-82c7-11eb-8e5e-b566d9ff6320.png)\n",
    "![15](https://user-images.githubusercontent.com/46242120/110808785-a8fa2280-82c7-11eb-91f4-480274579a4f.png)\n",
    "![16](https://user-images.githubusercontent.com/46242120/110808788-a992b900-82c7-11eb-98c6-715c9090733a.png)\n",
    "![17](https://user-images.githubusercontent.com/46242120/110808790-aa2b4f80-82c7-11eb-80c3-85a832f36d1c.png)\n",
    "![18](https://user-images.githubusercontent.com/46242120/110808793-aa2b4f80-82c7-11eb-821b-f1b718005401.png)\n",
    "![19](https://user-images.githubusercontent.com/46242120/110808794-aac3e600-82c7-11eb-8512-585886b58431.png)\n"
   ]
  },
  {
   "cell_type": "markdown",
   "metadata": {},
   "source": [
    "## Continuous Training Pipelines using Cloud Composer : Data"
   ]
  },
  {
   "cell_type": "markdown",
   "metadata": {},
   "source": [
    "![20](https://user-images.githubusercontent.com/46242120/110823692-b4ece100-82d5-11eb-8553-672849b23d7b.png)\n",
    "![21](https://user-images.githubusercontent.com/46242120/110823710-b918fe80-82d5-11eb-9d98-fc9560b2d2c2.png)\n",
    "![22](https://user-images.githubusercontent.com/46242120/110823712-ba4a2b80-82d5-11eb-882a-74b1bad24f28.png)\n",
    "![23](https://user-images.githubusercontent.com/46242120/110823720-bb7b5880-82d5-11eb-936b-28c8d220db00.png)\n",
    "![24](https://user-images.githubusercontent.com/46242120/110823727-bc13ef00-82d5-11eb-9117-f3ba8b7e2e7f.png)\n",
    "![25](https://user-images.githubusercontent.com/46242120/110823732-bcac8580-82d5-11eb-8192-f27a055c5bab.png)\n",
    "![26](https://user-images.githubusercontent.com/46242120/110823734-bd451c00-82d5-11eb-8912-70f3b3a3f48e.png)\n"
   ]
  },
  {
   "cell_type": "markdown",
   "metadata": {},
   "source": [
    "## Continuous Training Pipelines using Cloud Composer : Model\n"
   ]
  },
  {
   "cell_type": "markdown",
   "metadata": {},
   "source": [
    "![27](https://user-images.githubusercontent.com/46242120/110824415-5ffd9a80-82d6-11eb-96d6-fad1ca0d99a5.png)\n",
    "![28](https://user-images.githubusercontent.com/46242120/110824423-6429b800-82d6-11eb-8fca-efda2d0272ea.png)\n",
    "![29](https://user-images.githubusercontent.com/46242120/110824428-65f37b80-82d6-11eb-941f-85c074e6554a.png)\n",
    "![30](https://user-images.githubusercontent.com/46242120/110824433-67bd3f00-82d6-11eb-9ad5-7bca7433d495.png)\n",
    "![31](https://user-images.githubusercontent.com/46242120/110824439-68ee6c00-82d6-11eb-8a89-eec1725868ed.png)\n",
    "![32](https://user-images.githubusercontent.com/46242120/110824444-69870280-82d6-11eb-9a5c-c55b0b3e1ebd.png)\n"
   ]
  },
  {
   "cell_type": "markdown",
   "metadata": {},
   "source": [
    "## Apache Airflow, Containers, and TFX\n"
   ]
  },
  {
   "cell_type": "markdown",
   "metadata": {},
   "source": [
    "![33](https://user-images.githubusercontent.com/46242120/110825139-13ff2580-82d7-11eb-8233-958e6394d34e.png)\n",
    "![34](https://user-images.githubusercontent.com/46242120/110825158-18c3d980-82d7-11eb-9947-335afa21143a.png)\n"
   ]
  }
 ],
 "metadata": {
  "kernelspec": {
   "display_name": "Python 3",
   "language": "python",
   "name": "python3"
  },
  "language_info": {
   "codemirror_mode": {
    "name": "ipython",
    "version": 3
   },
   "file_extension": ".py",
   "mimetype": "text/x-python",
   "name": "python",
   "nbconvert_exporter": "python",
   "pygments_lexer": "ipython3",
   "version": "3.7.2"
  }
 },
 "nbformat": 4,
 "nbformat_minor": 4
}
