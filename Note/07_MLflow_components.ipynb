{
 "cells": [
  {
   "cell_type": "markdown",
   "metadata": {},
   "source": [
    "## MLflow tracking"
   ]
  },
  {
   "cell_type": "markdown",
   "metadata": {},
   "source": [
    "![37](https://user-images.githubusercontent.com/46242120/110827905-db148000-82d9-11eb-986d-3182322bcf4c.png)\n",
    "![38](https://user-images.githubusercontent.com/46242120/110827924-e071ca80-82d9-11eb-9f1d-49dfde4f00c0.png)\n",
    "![39](https://user-images.githubusercontent.com/46242120/110827929-e10a6100-82d9-11eb-8a23-d24f95806ef9.png)\n",
    "![40](https://user-images.githubusercontent.com/46242120/110827933-e23b8e00-82d9-11eb-80ea-e1d9bf255438.png)"
   ]
  },
  {
   "cell_type": "markdown",
   "metadata": {},
   "source": [
    "## MLflow projects"
   ]
  },
  {
   "cell_type": "markdown",
   "metadata": {},
   "source": [
    "![41](https://user-images.githubusercontent.com/46242120/110828332-46f6e880-82da-11eb-8a78-49dc766c3d50.png)\n",
    "![42](https://user-images.githubusercontent.com/46242120/110828349-4c543300-82da-11eb-9326-6c9f34819cdc.png)\n",
    "![43](https://user-images.githubusercontent.com/46242120/110828354-4d856000-82da-11eb-8c1a-5491a13bebb8.png)\n",
    "![44](https://user-images.githubusercontent.com/46242120/110828356-4e1df680-82da-11eb-817a-7b90676f4355.png)\n",
    "![45](https://user-images.githubusercontent.com/46242120/110828358-4eb68d00-82da-11eb-89ff-4615b5b32391.png)\n",
    "![46](https://user-images.githubusercontent.com/46242120/110828362-4f4f2380-82da-11eb-91ab-84df38ea02f1.png)\n"
   ]
  },
  {
   "cell_type": "markdown",
   "metadata": {},
   "source": [
    "## MLflow models"
   ]
  },
  {
   "cell_type": "markdown",
   "metadata": {},
   "source": [
    "![47](https://user-images.githubusercontent.com/46242120/110828757-b7056e80-82da-11eb-8536-84a0b31e405c.png)\n",
    "![48](https://user-images.githubusercontent.com/46242120/110828774-bc62b900-82da-11eb-9265-a9a63b891d90.png)\n",
    "![49](https://user-images.githubusercontent.com/46242120/110828779-be2c7c80-82da-11eb-93bc-158ebbfbe675.png)\n",
    "![50](https://user-images.githubusercontent.com/46242120/110828786-bf5da980-82da-11eb-8cbc-8e88868ac0e7.png)\n",
    "![51](https://user-images.githubusercontent.com/46242120/110828793-c08ed680-82da-11eb-8b39-26e79f7c37a2.png)\n"
   ]
  },
  {
   "cell_type": "markdown",
   "metadata": {},
   "source": [
    "## MLflow model registry"
   ]
  },
  {
   "cell_type": "markdown",
   "metadata": {},
   "source": [
    "![52](https://user-images.githubusercontent.com/46242120/110829127-22e7d700-82db-11eb-82e9-6c1fa73a1383.png)\n",
    "![53](https://user-images.githubusercontent.com/46242120/110829149-28452180-82db-11eb-95d4-b8b7f8848bb3.png)\n",
    "![54](https://user-images.githubusercontent.com/46242120/110829152-28ddb800-82db-11eb-958d-a3acf34f5c13.png)\n",
    "![55](https://user-images.githubusercontent.com/46242120/110829158-2a0ee500-82db-11eb-8626-caf64ff2a56b.png)\n",
    "![56](https://user-images.githubusercontent.com/46242120/110829161-2aa77b80-82db-11eb-8dae-06677d3de7ac.png)\n",
    "![57](https://user-images.githubusercontent.com/46242120/110829165-2b401200-82db-11eb-8553-5c6fe3c88ed3.png)\n",
    "![58](https://user-images.githubusercontent.com/46242120/110829170-2bd8a880-82db-11eb-86a0-3aa1139af3d3.png)"
   ]
  }
 ],
 "metadata": {
  "kernelspec": {
   "display_name": "Python 3",
   "language": "python",
   "name": "python3"
  },
  "language_info": {
   "codemirror_mode": {
    "name": "ipython",
    "version": 3
   },
   "file_extension": ".py",
   "mimetype": "text/x-python",
   "name": "python",
   "nbconvert_exporter": "python",
   "pygments_lexer": "ipython3",
   "version": "3.7.2"
  }
 },
 "nbformat": 4,
 "nbformat_minor": 4
}
