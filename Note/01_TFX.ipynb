{
 "cells": [
  {
   "cell_type": "markdown",
   "metadata": {},
   "source": [
    "## TensorFlow Extended (TFX)"
   ]
  },
  {
   "cell_type": "markdown",
   "metadata": {},
   "source": [
    "TFX is a Google production-scale machine learning platform based on the TensorFlow ecosystem, widely used internally at Google and fully open-sourced in 2019. It provides a flexible configuration framework and shared libraries to integrate common machine-learning tests, implemented this components needed to define, launch, and monitor your machine learning system. TFX makes MLOps easier through all phases of the machine learning project life cycle from prototyping to production. It is designed to orchestrate your machine learning workflow with portability to multiple environments and orchestration frameworks in mind. This includes Apache Airflow, Apache Beam, and Kubeflow. TFX already supports four standard deployment targets for TensorFlow models. Deployment to TF Serving a high-performance Production machine-learning model server for batch and streaming inference. Deployment through a TF light model converter for inference on IoT and mobile devices. Deployment to web browsers through TensorFlow JS for lowly and C web applications. Deployment to TFO, a model repository for model sharing and transfer learning. It is also portable to different computing platforms, including on-premise and Cloud providers such as Google Cloud. In fact, TFX runs on top of AI platform pipelines which inter-operates with several managed Google Cloud services, such as AI Platform training, AI Platform prediction, and Dataflow for distributed data processing. By implementing your TFX workflow on Google Cloud, you can verse scale your machine learning workflow with your data. TFX simplifies these distributed compute resources by leveraging Dataflow for processing large data sets and computing model evaluation metrics. Second, increase your development and experimentation velocity. TFX enables you to run multiple pipelines and parallel locally or in the Cloud backed by AI Platform. This includes pipelines with different sets of data splits, models, and hyperparameters to iterate towards an optimal model that you can deploy to production faster. Third, automate your machine learning operational processes for individual and multiple machine learning pipelines. Google Cloud development tools like Cloud Functions, Container Registry and Cloud Build, streamline TFX code-sharing, testing, and deployment for continuous training. AI Platform Pipelines and its integrations with Cloud Storage and Cloud SQL further enable you to regularly retrain, evaluate, and deploy TensorFlow models in production while keeping tidy ML Projects in standardizing artifact and metadata tracking for you."
   ]
  },
  {
   "cell_type": "markdown",
   "metadata": {},
   "source": [
    "![1](https://user-images.githubusercontent.com/46242120/110280624-7974bd00-801e-11eb-88ea-ef770a7f14b9.png)\n",
    "![2](https://user-images.githubusercontent.com/46242120/110280637-7ed20780-801e-11eb-8959-3b0e902ca366.png)\n",
    "![3](https://user-images.githubusercontent.com/46242120/110280642-80033480-801e-11eb-9f90-2317d3515923.png)\n",
    "![4](https://user-images.githubusercontent.com/46242120/110280644-809bcb00-801e-11eb-8304-4a9763ecca40.png)\n",
    "![5](https://user-images.githubusercontent.com/46242120/110280646-81346180-801e-11eb-8769-7b12ad297bef.png)\n"
   ]
  },
  {
   "cell_type": "markdown",
   "metadata": {},
   "source": [
    "---\n",
    "## TFX concepts\n"
   ]
  },
  {
   "cell_type": "markdown",
   "metadata": {},
   "source": [
    "![6](https://user-images.githubusercontent.com/46242120/110280648-81ccf800-801e-11eb-9e36-78e174c88b8f.png)\n",
    "![7](https://user-images.githubusercontent.com/46242120/110283130-ebe79c00-8022-11eb-86da-8d0dc6e2a779.png)\n",
    "\n",
    "\n",
    "----\n",
    "### TFX Components have 5 elements\n",
    "\n",
    "![8](https://user-images.githubusercontent.com/46242120/110282992-bf338480-8022-11eb-9f20-35e6cf6f6df4.png)\n",
    "![9](https://user-images.githubusercontent.com/46242120/110283004-c490cf00-8022-11eb-8794-1b579ca8533a.png)\n",
    "![10](https://user-images.githubusercontent.com/46242120/110283009-c5c1fc00-8022-11eb-8acc-23a4ae834b43.png)\n",
    "![11](https://user-images.githubusercontent.com/46242120/110283014-c6f32900-8022-11eb-954b-b93327e8ea81.png)\n",
    "![12](https://user-images.githubusercontent.com/46242120/110283015-c78bbf80-8022-11eb-9119-fb0ba53e380c.png)\n",
    "![13](https://user-images.githubusercontent.com/46242120/110283017-c8245600-8022-11eb-9dc9-c45cad1e7728.png)\n",
    "![14](https://user-images.githubusercontent.com/46242120/110283020-c8bcec80-8022-11eb-8a59-a4bdeced3b49.png)\n",
    "![15](https://user-images.githubusercontent.com/46242120/110283023-c9558300-8022-11eb-84f9-28012355c48f.png)"
   ]
  },
  {
   "cell_type": "markdown",
   "metadata": {},
   "source": [
    "## TFX standard data components\n",
    "\n",
    " - Compose ML pipelines faster with reusable components pre-configured with production best practices."
   ]
  },
  {
   "cell_type": "markdown",
   "metadata": {},
   "source": [
    "![16](https://user-images.githubusercontent.com/46242120/110563791-2ec68280-818f-11eb-91fc-07eab55b8721.png)\n",
    "![17](https://user-images.githubusercontent.com/46242120/110563804-34bc6380-818f-11eb-9316-63ba58610a85.png)\n",
    "![18](https://user-images.githubusercontent.com/46242120/110563811-3554fa00-818f-11eb-8c2d-d2577679f481.png)\n",
    "![19](https://user-images.githubusercontent.com/46242120/110563814-36862700-818f-11eb-8e61-5acefd376f39.png)\n",
    "![20](https://user-images.githubusercontent.com/46242120/110563817-371ebd80-818f-11eb-9125-5a0d4873c9e5.png)\n",
    "![21](https://user-images.githubusercontent.com/46242120/110563820-37b75400-818f-11eb-9c15-cc1efd7dc30d.png)\n",
    "![22](https://user-images.githubusercontent.com/46242120/110563824-384fea80-818f-11eb-9e41-c835a48ce748.png)"
   ]
  },
  {
   "cell_type": "markdown",
   "metadata": {},
   "source": [
    "## TFX standard model components\n"
   ]
  },
  {
   "cell_type": "markdown",
   "metadata": {},
   "source": [
    "![23](https://user-images.githubusercontent.com/46242120/110564835-dabc9d80-8190-11eb-9b94-30485f4f95c6.png)\n",
    "![24](https://user-images.githubusercontent.com/46242120/110564851-e019e800-8190-11eb-9e84-0df45a156500.png)\n",
    "![25](https://user-images.githubusercontent.com/46242120/110564857-e14b1500-8190-11eb-8b27-eb4517483b67.png)\n",
    "![26](https://user-images.githubusercontent.com/46242120/110564860-e27c4200-8190-11eb-942a-d861f25e24df.png)\n",
    "![27](https://user-images.githubusercontent.com/46242120/110564861-e314d880-8190-11eb-99a2-bd1684424c3e.png)\n",
    "![28](https://user-images.githubusercontent.com/46242120/110564862-e3ad6f00-8190-11eb-81b2-81191d22704d.png)\n",
    "![29](https://user-images.githubusercontent.com/46242120/110564863-e4460580-8190-11eb-8c4a-351def8342d5.png)"
   ]
  },
  {
   "cell_type": "markdown",
   "metadata": {},
   "source": [
    "## TFX pipeline nodes"
   ]
  },
  {
   "cell_type": "markdown",
   "metadata": {},
   "source": [
    "![30](https://user-images.githubusercontent.com/46242120/110565514-f83e3700-8191-11eb-9c51-d3a4e8a94788.png)\n",
    "![31](https://user-images.githubusercontent.com/46242120/110565532-fc6a5480-8191-11eb-9e46-763942df602f.png)\n",
    "![32](https://user-images.githubusercontent.com/46242120/110565539-fe341800-8191-11eb-8841-bf3fff3682fb.png)\n",
    "![33](https://user-images.githubusercontent.com/46242120/110565544-fffddb80-8191-11eb-93e2-ac5ca29d0ba2.png)"
   ]
  },
  {
   "cell_type": "markdown",
   "metadata": {},
   "source": [
    "## TFX libraries"
   ]
  },
  {
   "cell_type": "markdown",
   "metadata": {},
   "source": [
    "![34](https://user-images.githubusercontent.com/46242120/110566316-325c0880-8193-11eb-8b0f-bd138562f6a1.png)\n",
    "![35](https://user-images.githubusercontent.com/46242120/110566331-37b95300-8193-11eb-96e8-e84838ed8f15.png)\n",
    "![36](https://user-images.githubusercontent.com/46242120/110566336-3851e980-8193-11eb-8973-18e24c06d5dd.png)\n",
    "![37](https://user-images.githubusercontent.com/46242120/110566337-39831680-8193-11eb-864d-e395cc7f3de0.png)\n",
    "![38](https://user-images.githubusercontent.com/46242120/110566345-3b4cda00-8193-11eb-88ba-3d971d47e269.png)\n",
    "![39](https://user-images.githubusercontent.com/46242120/110566353-3d169d80-8193-11eb-94c9-da57d9da9e47.png)\n",
    "![40](https://user-images.githubusercontent.com/46242120/110566358-3ee06100-8193-11eb-9b67-7b355ce0b363.png)\n",
    "![41](https://user-images.githubusercontent.com/46242120/110566365-4142bb00-8193-11eb-8ac1-3c2e562ac2ef.png)"
   ]
  }
 ],
 "metadata": {
  "kernelspec": {
   "display_name": "Python 3",
   "language": "python",
   "name": "python3"
  },
  "language_info": {
   "codemirror_mode": {
    "name": "ipython",
    "version": 3
   },
   "file_extension": ".py",
   "mimetype": "text/x-python",
   "name": "python",
   "nbconvert_exporter": "python",
   "pygments_lexer": "ipython3",
   "version": "3.7.2"
  }
 },
 "nbformat": 4,
 "nbformat_minor": 4
}
