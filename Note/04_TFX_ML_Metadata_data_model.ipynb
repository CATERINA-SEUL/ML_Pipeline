{
 "cells": [
  {
   "cell_type": "markdown",
   "metadata": {},
   "source": [
    "## TFX Pipeline Metadata"
   ]
  },
  {
   "cell_type": "markdown",
   "metadata": {},
   "source": [
    "![1](https://user-images.githubusercontent.com/46242120/110743578-9954ec80-827b-11eb-9959-673cc4f5d882.png)\n",
    "![2](https://user-images.githubusercontent.com/46242120/110743586-9d810a00-827b-11eb-9627-e1fecbbc09d9.png)\n",
    "![3](https://user-images.githubusercontent.com/46242120/110743590-9eb23700-827b-11eb-8f95-690391993d15.png)\n",
    "![4](https://user-images.githubusercontent.com/46242120/110743591-9fe36400-827b-11eb-89f3-8c50769b911f.png)\n",
    "![5](https://user-images.githubusercontent.com/46242120/110743593-a07bfa80-827b-11eb-9a68-c6181e8c1915.png)\n",
    "![6](https://user-images.githubusercontent.com/46242120/110743596-a1149100-827b-11eb-845a-9a23a5b5599d.png)\n",
    "![7](https://user-images.githubusercontent.com/46242120/110743600-a245be00-827b-11eb-85dc-449b4343c897.png)"
   ]
  },
  {
   "cell_type": "markdown",
   "metadata": {},
   "source": [
    "## TFX ML Metadata data model\n"
   ]
  },
  {
   "cell_type": "markdown",
   "metadata": {},
   "source": [
    "![1](https://user-images.githubusercontent.com/46242120/110746044-8cd29300-827f-11eb-8195-5fc5486e805d.png)\n",
    "![2](https://user-images.githubusercontent.com/46242120/110746057-922fdd80-827f-11eb-8403-f27ef9c425f3.png)\n",
    "![3](https://user-images.githubusercontent.com/46242120/110746061-93610a80-827f-11eb-8eb4-7feef4bfc038.png)"
   ]
  },
  {
   "cell_type": "markdown",
   "metadata": {},
   "source": [
    "----\n",
    "## Continuous Training with multiple SDKs, KubeFlow & AI Platform Pipelines\n",
    "---"
   ]
  },
  {
   "cell_type": "markdown",
   "metadata": {},
   "source": [
    "## Containerized Training Applications"
   ]
  },
  {
   "cell_type": "markdown",
   "metadata": {},
   "source": [
    "### Why use containerized training applications?\n",
    "\n",
    " - You don't have to worry about dependencies.\n",
    " - Use them as ops in a Kubeflow pipeline (or other orchestration tools.)\n",
    " - They are portable across runtime environments."
   ]
  },
  {
   "cell_type": "markdown",
   "metadata": {},
   "source": [
    "![35](https://user-images.githubusercontent.com/46242120/110750631-20a75d80-8286-11eb-9501-8067c24e51ec.png)\n",
    "\n",
    "### AI Platform Training job as an op in a Kubeflow pipeline\n",
    "\n",
    "![36](https://user-images.githubusercontent.com/46242120/110750656-269d3e80-8286-11eb-8800-de0404d9655d.png)\n",
    "\n",
    " - Load the pre-built AI Platform Training component.\n",
    " - Use op with training image and args."
   ]
  },
  {
   "cell_type": "markdown",
   "metadata": {},
   "source": [
    "![37](https://user-images.githubusercontent.com/46242120/110750824-6ebc6100-8286-11eb-98ba-d0e89593d84b.png)\n",
    "![38](https://user-images.githubusercontent.com/46242120/110750839-7419ab80-8286-11eb-83f3-69e814457e1f.png)\n",
    "![39](https://user-images.githubusercontent.com/46242120/110750840-754ad880-8286-11eb-8468-65cefd50cb52.png)"
   ]
  },
  {
   "cell_type": "markdown",
   "metadata": {},
   "source": [
    "## Containerizing PyTorch, Scikit, and XGBoost Applications\n"
   ]
  },
  {
   "cell_type": "markdown",
   "metadata": {},
   "source": [
    "![40](https://user-images.githubusercontent.com/46242120/110751269-fb671f00-8286-11eb-9526-90f9292fc8e1.png)\n",
    "![41](https://user-images.githubusercontent.com/46242120/110751283-002bd300-8287-11eb-9d18-4171c9a735f3.png)\n",
    "\n",
    "### Step1 : Develop a training script.\n",
    "\n",
    "![42](https://user-images.githubusercontent.com/46242120/110751287-015d0000-8287-11eb-9c21-b5fdb83ec2e6.png)\n",
    "\n",
    "### Step2 : Create a Dockerfile.\n",
    "\n",
    "![43](https://user-images.githubusercontent.com/46242120/110751292-01f59680-8287-11eb-808b-3f5791343ed5.png)\n",
    "\n",
    "### Step3 : Build and push the image."
   ]
  },
  {
   "cell_type": "markdown",
   "metadata": {},
   "source": [
    "## KubeFlow & AI Platform Pipelines\n"
   ]
  },
  {
   "cell_type": "markdown",
   "metadata": {},
   "source": [
    "### Training multiple models in a Kubeflow pipeline\n",
    "\n",
    "![44](https://user-images.githubusercontent.com/46242120/110751578-61ec3d00-8287-11eb-8602-72d7fdf4c467.png)\n",
    "![45](https://user-images.githubusercontent.com/46242120/110751603-6e709580-8287-11eb-9fb7-33e98a0ce012.png)\n",
    "![46](https://user-images.githubusercontent.com/46242120/110751798-b68fb800-8287-11eb-8e59-60d941e2c9c5.png)\n"
   ]
  },
  {
   "cell_type": "markdown",
   "metadata": {},
   "source": [
    "## Continuous Training\n"
   ]
  },
  {
   "cell_type": "markdown",
   "metadata": {},
   "source": [
    "![47](https://user-images.githubusercontent.com/46242120/110753194-a11b8d80-8289-11eb-9188-3afdae383f0c.png)\n",
    "\n",
    " - Deterioration of model performance\n",
    " - Changes in the data distributions\n",
    " - Cost and time to retrain model"
   ]
  }
 ],
 "metadata": {
  "kernelspec": {
   "display_name": "Python 3",
   "language": "python",
   "name": "python3"
  },
  "language_info": {
   "codemirror_mode": {
    "name": "ipython",
    "version": 3
   },
   "file_extension": ".py",
   "mimetype": "text/x-python",
   "name": "python",
   "nbconvert_exporter": "python",
   "pygments_lexer": "ipython3",
   "version": "3.7.2"
  }
 },
 "nbformat": 4,
 "nbformat_minor": 4
}
