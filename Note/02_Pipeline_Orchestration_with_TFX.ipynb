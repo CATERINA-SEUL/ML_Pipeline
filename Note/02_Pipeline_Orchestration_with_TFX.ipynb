{
 "cells": [
  {
   "cell_type": "markdown",
   "metadata": {},
   "source": [
    "## TFX Orchestrators"
   ]
  },
  {
   "cell_type": "markdown",
   "metadata": {},
   "source": [
    "![42](https://user-images.githubusercontent.com/46242120/110581657-4e20d800-81ae-11eb-9bac-bd8b75c2a448.png)"
   ]
  },
  {
   "cell_type": "markdown",
   "metadata": {},
   "source": [
    "### TFX Orchestration in a Notebook"
   ]
  },
  {
   "cell_type": "code",
   "execution_count": null,
   "metadata": {},
   "outputs": [],
   "source": [
    "context = InteractiveContext()\n",
    "\n",
    "component = MyComponent(...)\n",
    "context.run(component)\n",
    "context.show(component.outputs['my_output'])"
   ]
  },
  {
   "cell_type": "markdown",
   "metadata": {},
   "source": [
    "![43](https://user-images.githubusercontent.com/46242120/110581685-55e07c80-81ae-11eb-88fe-0de955c976dc.png)\n",
    "![44](https://user-images.githubusercontent.com/46242120/110581782-832d2a80-81ae-11eb-8398-92f33d358f0a.png)\n",
    "\n",
    "-----\n",
    "\n",
    "![45](https://user-images.githubusercontent.com/46242120/110582023-e3bc6780-81ae-11eb-9718-9134f68f8cc7.png)\n",
    "![46](https://user-images.githubusercontent.com/46242120/110582035-e8811b80-81ae-11eb-9b9d-0b39962d4eb4.png)\n",
    "![47](https://user-images.githubusercontent.com/46242120/110582041-e9b24880-81ae-11eb-86fc-6ad7e6c1b1c2.png)\n",
    "![48](https://user-images.githubusercontent.com/46242120/110582046-eae37580-81ae-11eb-8be9-b3f5f10f066d.png)"
   ]
  },
  {
   "cell_type": "markdown",
   "metadata": {},
   "source": [
    "## Apache Beam"
   ]
  },
  {
   "cell_type": "markdown",
   "metadata": {},
   "source": [
    "![49](https://user-images.githubusercontent.com/46242120/110582249-46adfe80-81af-11eb-9f5c-9e25c75641b6.png)\n",
    "![50](https://user-images.githubusercontent.com/46242120/110582260-4d3c7600-81af-11eb-9e32-d7728d7dc3b6.png)\n",
    "![51](https://user-images.githubusercontent.com/46242120/110582268-51689380-81af-11eb-8e9f-b02c0e6ee195.png)\n",
    "![52](https://user-images.githubusercontent.com/46242120/110582528-b15f3a00-81af-11eb-94fb-fa7964ecc1cf.png)\n",
    "![53](https://user-images.githubusercontent.com/46242120/110582805-16b32b00-81b0-11eb-8390-bcd0dd64ff18.png)\n",
    "![54](https://user-images.githubusercontent.com/46242120/110582824-1b77df00-81b0-11eb-8cb4-dd67c6fbb8f3.png)\n",
    "![55](https://user-images.githubusercontent.com/46242120/110582831-1dda3900-81b0-11eb-9cfd-148512a36790.png)\n",
    "![56](https://user-images.githubusercontent.com/46242120/110582843-1fa3fc80-81b0-11eb-99d2-44ca97492d73.png)"
   ]
  },
  {
   "cell_type": "markdown",
   "metadata": {},
   "source": [
    "## TFX on Cloud AI Platform"
   ]
  },
  {
   "cell_type": "markdown",
   "metadata": {},
   "source": [
    "![57](https://user-images.githubusercontent.com/46242120/110583273-cc7e7980-81b0-11eb-8762-f27b8c8c5848.png)\n",
    "![58](https://user-images.githubusercontent.com/46242120/110583289-d1432d80-81b0-11eb-917f-b74068b364f4.png)\n",
    "![59](https://user-images.githubusercontent.com/46242120/110583295-d2745a80-81b0-11eb-932b-bf73a644c7dd.png)\n",
    "![60](https://user-images.githubusercontent.com/46242120/110583301-d3a58780-81b0-11eb-9820-015035b07729.png)"
   ]
  }
 ],
 "metadata": {
  "kernelspec": {
   "display_name": "Python 3",
   "language": "python",
   "name": "python3"
  },
  "language_info": {
   "codemirror_mode": {
    "name": "ipython",
    "version": 3
   },
   "file_extension": ".py",
   "mimetype": "text/x-python",
   "name": "python",
   "nbconvert_exporter": "python",
   "pygments_lexer": "ipython3",
   "version": "3.7.2"
  }
 },
 "nbformat": 4,
 "nbformat_minor": 4
}
