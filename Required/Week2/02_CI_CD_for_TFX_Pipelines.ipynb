{
 "cells": [
  {
   "cell_type": "markdown",
   "metadata": {},
   "source": [
    "## CI/CD for TFX Pipelines"
   ]
  },
  {
   "cell_type": "markdown",
   "metadata": {},
   "source": [
    "![1](https://user-images.githubusercontent.com/46242120/110606634-b92dd700-81cd-11eb-98e3-b9fcedc0ad3b.png)\n",
    "![2](https://user-images.githubusercontent.com/46242120/110606653-be8b2180-81cd-11eb-9ff9-59631c90e924.png)\n",
    "![3](https://user-images.githubusercontent.com/46242120/110606662-bfbc4e80-81cd-11eb-9df1-76dbe0754a7b.png)\n",
    "![4](https://user-images.githubusercontent.com/46242120/110606665-c054e500-81cd-11eb-95c0-d09bd6c6ce2b.png)\n",
    "![5](https://user-images.githubusercontent.com/46242120/110606668-c0ed7b80-81cd-11eb-85d3-8279cf10a190.png)\n",
    "![6](https://user-images.githubusercontent.com/46242120/110606670-c1861200-81cd-11eb-8e3d-ac85247bb365.png)\n"
   ]
  }
 ],
 "metadata": {
  "kernelspec": {
   "display_name": "Python 3",
   "language": "python",
   "name": "python3"
  },
  "language_info": {
   "codemirror_mode": {
    "name": "ipython",
    "version": 3
   },
   "file_extension": ".py",
   "mimetype": "text/x-python",
   "name": "python",
   "nbconvert_exporter": "python",
   "pygments_lexer": "ipython3",
   "version": "3.7.2"
  }
 },
 "nbformat": 4,
 "nbformat_minor": 4
}
