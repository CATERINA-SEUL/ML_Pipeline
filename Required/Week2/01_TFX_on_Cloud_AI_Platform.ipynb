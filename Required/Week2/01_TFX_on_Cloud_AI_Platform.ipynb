{
 "cells": [
  {
   "cell_type": "markdown",
   "metadata": {},
   "source": [
    "## TFX on Cloud AI Platform"
   ]
  },
  {
   "cell_type": "markdown",
   "metadata": {},
   "source": [
    "![1](https://user-images.githubusercontent.com/46242120/110583621-4dd60c00-81b1-11eb-987c-9927548bab31.png)\n",
    "![2](https://user-images.githubusercontent.com/46242120/110583635-54648380-81b1-11eb-861a-b6f32bc2e68d.png)\n",
    "![3](https://user-images.githubusercontent.com/46242120/110583640-56c6dd80-81b1-11eb-9d65-78ff0672dfaa.png)\n",
    "![4](https://user-images.githubusercontent.com/46242120/110583646-59293780-81b1-11eb-8777-de944e26b074.png)\n",
    "![5](https://user-images.githubusercontent.com/46242120/110583647-59c1ce00-81b1-11eb-9734-e26432da3eb9.png)"
   ]
  }
 ],
 "metadata": {
  "kernelspec": {
   "display_name": "Python 3",
   "language": "python",
   "name": "python3"
  },
  "language_info": {
   "codemirror_mode": {
    "name": "ipython",
    "version": 3
   },
   "file_extension": ".py",
   "mimetype": "text/x-python",
   "name": "python",
   "nbconvert_exporter": "python",
   "pygments_lexer": "ipython3",
   "version": "3.7.2"
  }
 },
 "nbformat": 4,
 "nbformat_minor": 4
}
